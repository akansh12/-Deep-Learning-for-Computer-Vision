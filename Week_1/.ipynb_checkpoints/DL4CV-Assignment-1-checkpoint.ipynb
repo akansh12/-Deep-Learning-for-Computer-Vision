{
 "cells": [
  {
   "cell_type": "markdown",
   "metadata": {},
   "source": [
    "#### **Welcome to Assignment 1 on Deep Learning for Computer Vision.**\n",
    "In this assignment you will get a chance to implement basic Image processing tasks like Correlation, Convolution, Edge Detection etc.\n",
    "\n",
    "#### **Instructions**\n",
    "1. Use Python 3.x to run this notebook\n",
    "3. Write your code only in between the lines 'YOUR CODE STARTS HERE' and 'YOUR CODE ENDS HERE'.\n",
    "you sould not change anything else code cells, if you do, the answers you are supposed to get at the end of this assignment might be wrong.\n",
    "4. Read documentation of each function carefully."
   ]
  },
  {
   "cell_type": "code",
   "execution_count": 1,
   "metadata": {
    "colab": {},
    "colab_type": "code",
    "id": "kuZ6SrRAt5q6"
   },
   "outputs": [],
   "source": [
    "# Imports\n",
    "import numpy as np\n",
    "import matplotlib.pyplot as plt\n",
    "from PIL import Image\n",
    "\n",
    "# %matplotlib inline uncomment this line if you're running this notebook on your local PC"
   ]
  },
  {
   "cell_type": "code",
   "execution_count": 2,
   "metadata": {
    "colab": {},
    "colab_type": "code",
    "id": "JRuDdi1Bu6v6"
   },
   "outputs": [],
   "source": [
    "# DO NOT CHANGE THIS CODE\n",
    "np.random.seed(0)"
   ]
  },
  {
   "cell_type": "code",
   "execution_count": 3,
   "metadata": {
    "colab": {},
    "colab_type": "code",
    "id": "lD4QgdL1u8z8"
   },
   "outputs": [],
   "source": [
    "def standardize(image):\n",
    "    eps = 1e-5  # some fields have all 255 so variance will be 0, to avoid division by zero, introduced eps\n",
    "    return (image - np.mean(image))/(np.std(image)+eps)"
   ]
  },
  {
   "cell_type": "markdown",
   "metadata": {},
   "source": [
    "### Question 1\n"
   ]
  },
  {
   "cell_type": "code",
   "execution_count": null,
   "metadata": {
    "colab": {},
    "colab_type": "code",
    "id": "UhLEA7p4vCgr"
   },
   "outputs": [],
   "source": [
    "# Implement Linear Filtering technique on an image using a linear filter\n",
    "def linear_filter(image, filter_): # 'filter' is a keyword in python, so is the underscore at the end.\n",
    "    \"\"\"\n",
    "    Performs linear filtering on an image.\n",
    "    Assume image size is W1xW2, filter size is F1xF2.\n",
    "    \n",
    "    Arguments:\n",
    "    image -- input image possibly with 3 channels(RGB).\n",
    "    filter_ -- linear filter to apply on image.\n",
    "    \n",
    "    Returns:\n",
    "    result -- filtered image. \n",
    "    \"\"\"\n",
    "    # DO NOT CHAGE THIS CODE    \n",
    "    image = np.array(image.convert('L')) # converts image to gray scale, so that it is easy to apply filter\n",
    "    image_height, image_width = image.shape[0], image.shape[1]\n",
    "\n",
    "    filter_ = np.array(filter_.convert('L'))\n",
    "    filter_height, filter_width = filter_.shape[0], filter_.shape[1]\n",
    "\n",
    "    # result shape will be of size --> (((W1−F1+2P) / S) + 1) x (((W2−F2+2P) / S) + 1), where 'P' is padding length\n",
    "    # S is stride length, if you don't know about them, don't worry, you will learn in upcoming lectures.For now\n",
    "    # we will use simplest setting P=0,S=1. See the next line.\n",
    "\n",
    "    result_height, result_width = (image_height - filter_height) + 1, (image_width - filter_width) + 1\n",
    "    result = np.array([[0 for j in range(result_width)] for i in range(result_height)])\n",
    "    for i in range(result_height):\n",
    "        for j in range(result_width):\n",
    "         # YOUR CODE STARTS HERE\n",
    "\n",
    "         # YOUR CODE ENDS HERE\n",
    "            \n",
    "    return result\n",
    "    "
   ]
  },
  {
   "cell_type": "code",
   "execution_count": null,
   "metadata": {
    "colab": {},
    "colab_type": "code",
    "id": "DJ3ViEWTvFL7"
   },
   "outputs": [],
   "source": [
    "# To test your implementation, run the below code.\n",
    "image = Image.open('./images/car_road.jpg')\n",
    "filter_ = Image.open('./images/car.jpg')\n",
    "result = linear_filter(image, filter_)"
   ]
  },
  {
   "cell_type": "code",
   "execution_count": null,
   "metadata": {
    "colab": {},
    "colab_type": "code",
    "id": "Z6OXE0U0vInq"
   },
   "outputs": [],
   "source": [
    "fig, ax = plt.subplots(nrows=1, ncols=3, figsize=(8, 3))\n",
    "ax[0].imshow(image)\n",
    "ax[0].set_title('Input Image')\n",
    "\n",
    "ax[1].imshow(filter_)\n",
    "ax[1].set_title('Filter')\n",
    "\n",
    "ax[2].imshow(result)\n",
    "ax[2].set_title('Result')\n",
    "\n",
    "\n",
    "for a in ax:\n",
    "    a.axis('off')\n",
    "\n",
    "fig.tight_layout()\n",
    "plt.show()"
   ]
  },
  {
   "cell_type": "markdown",
   "metadata": {},
   "source": [
    "Where do you find the bright spot in the `result` image? (*Hint:* Find the co-ordinates of the maximum value in the output array, you can use `unravel_index` function from `numpy`)\n",
    "\n",
    "1. $(143, 49)$\n",
    "2. $(134, 47)$\n",
    "3. $(130, 33)$\n",
    "4. $(126, 50)$"
   ]
  },
  {
   "cell_type": "markdown",
   "metadata": {},
   "source": [
    "### Question 2"
   ]
  },
  {
   "cell_type": "code",
   "execution_count": null,
   "metadata": {
    "colab": {},
    "colab_type": "code",
    "id": "-xhqFru7w6Fm"
   },
   "outputs": [],
   "source": [
    "# To test your implementation, run the below code.\n",
    "image = Image.open('./images/hills.jpeg')\n",
    "filter_ = Image.open('./images/template.png')\n",
    "result = linear_filter(image, filter_)"
   ]
  },
  {
   "cell_type": "code",
   "execution_count": null,
   "metadata": {
    "colab": {},
    "colab_type": "code",
    "id": "iowimfTwxA1v"
   },
   "outputs": [],
   "source": [
    "fig, ax = plt.subplots(nrows=1, ncols=3, figsize=(8, 3))\n",
    "ax[0].imshow(image)\n",
    "ax[0].set_title('Input Image')\n",
    "\n",
    "ax[1].imshow(filter_)\n",
    "ax[1].set_title('Filter')\n",
    "\n",
    "ax[2].imshow(result)\n",
    "ax[2].set_title('Result')\n",
    "\n",
    "\n",
    "for a in ax:\n",
    "    a.axis('off')\n",
    "\n",
    "fig.tight_layout()\n",
    "plt.show()"
   ]
  },
  {
   "cell_type": "markdown",
   "metadata": {},
   "source": [
    "Where do you find the bright spot in the `result` image? (*Hint:* Find the co-ordinates of the maximum value in the output array  )\n",
    "​\n",
    "1. $(2, 130)$\n",
    "2. $(25, 118)$\n",
    "3. $(0, 137)$\n",
    "4. $(42, 115)$"
   ]
  },
  {
   "cell_type": "markdown",
   "metadata": {},
   "source": [
    "### Question 3"
   ]
  },
  {
   "cell_type": "code",
   "execution_count": null,
   "metadata": {
    "colab": {},
    "colab_type": "code",
    "id": "A_iFylRJ0EdZ"
   },
   "outputs": [],
   "source": [
    "# Implement Convolution on an image using a filter/kernel\n",
    "def convolution2D(image, kernel):\n",
    "    \"\"\"\n",
    "    Performs convolution on an image using a kernel.\n",
    "    \n",
    "    Arguments:\n",
    "    image -- 2D matrix representing image.\n",
    "    kernel -- kernel to apply on image.\n",
    "    \n",
    "    Returns:\n",
    "    result -- filtered image. \n",
    "    \"\"\"\n",
    "    # YOUR CODE STARTS HERE\n",
    "    \n",
    "    # YOUR CODE ENDS HERE\n",
    "    return result"
   ]
  },
  {
   "cell_type": "code",
   "execution_count": null,
   "metadata": {
    "colab": {},
    "colab_type": "code",
    "id": "pmEBuwDt22co"
   },
   "outputs": [],
   "source": [
    "# To test your implementation, run the below code.\n",
    "image = Image.open('./images/car_road.jpg')\n",
    "filter_ = Image.open('./images/car.jpg')\n",
    "result = convolution2D(image, filter_)"
   ]
  },
  {
   "cell_type": "code",
   "execution_count": null,
   "metadata": {
    "colab": {},
    "colab_type": "code",
    "id": "HEKRLmU14jqS"
   },
   "outputs": [],
   "source": [
    "fig, ax = plt.subplots(nrows=1, ncols=3, figsize=(8, 3))\n",
    "ax[0].imshow(image)\n",
    "ax[0].set_title('Input Image')\n",
    "\n",
    "ax[1].imshow(filter_)\n",
    "ax[1].set_title('Filter')\n",
    "\n",
    "ax[2].imshow(result)\n",
    "ax[2].set_title('Result')\n",
    "\n",
    "\n",
    "for a in ax:\n",
    "    a.axis('off')\n",
    "\n",
    "fig.tight_layout()\n",
    "plt.show()"
   ]
  },
  {
   "cell_type": "markdown",
   "metadata": {},
   "source": [
    "What are index of the min and max values in the `result` image?\n",
    "\n",
    "1. $(43, 134), (200, 54)$\n",
    "2. $(38, 142), (215, 61)$\n",
    "3. $(30, 118), (198, 54)$\n",
    "4. $(44, 142), (220, 43)$"
   ]
  },
  {
   "cell_type": "markdown",
   "metadata": {},
   "source": [
    "### Question 4"
   ]
  },
  {
   "cell_type": "code",
   "execution_count": null,
   "metadata": {
    "colab": {},
    "colab_type": "code",
    "id": "EuPkCPvo4nDR"
   },
   "outputs": [],
   "source": [
    "# To test your implementation, run the below code.\n",
    "image = Image.open('./images/hills.jpeg')\n",
    "filter_ = Image.open('./images/template.png')\n",
    "result = convolution2D(image, filter_)"
   ]
  },
  {
   "cell_type": "code",
   "execution_count": null,
   "metadata": {
    "colab": {},
    "colab_type": "code",
    "id": "SLK_Pvyq8B1D"
   },
   "outputs": [],
   "source": [
    "fig, ax = plt.subplots(nrows=1, ncols=3, figsize=(8, 3))\n",
    "ax[0].imshow(image)\n",
    "ax[0].set_title('Input Image')\n",
    "\n",
    "ax[1].imshow(filter_)\n",
    "ax[1].set_title('Filter')\n",
    "\n",
    "ax[2].imshow(result)\n",
    "ax[2].set_title('Result')\n",
    "\n",
    "\n",
    "for a in ax:\n",
    "    a.axis('off')\n",
    "\n",
    "fig.tight_layout()\n",
    "plt.show()"
   ]
  },
  {
   "cell_type": "markdown",
   "metadata": {},
   "source": [
    "What are index of the min and max values in the `result` image?\n",
    "\n",
    "1. $(15, 28), (18, 89)$\n",
    "2. $(0, 27), (22, 98)$\n",
    "3. $(4, 17), (14, 70)$\n",
    "4. $(7, 42), (10, 89)$"
   ]
  },
  {
   "cell_type": "markdown",
   "metadata": {
    "colab_type": "text",
    "id": "PoPmRwH7PhDK"
   },
   "source": [
    "### Question 5: \n",
    "In this question you'll have to apply a Sobel Filter to the provided image and report the index of min and max value of the final output.\n"
   ]
  },
  {
   "cell_type": "code",
   "execution_count": null,
   "metadata": {
    "colab": {},
    "colab_type": "code",
    "id": "QinuVnQRJDMX"
   },
   "outputs": [],
   "source": [
    "image = Image.open('./images/edges_image.png').convert('L')\n",
    "\n",
    "###YOUR CODE STARTS HERE\n",
    "\n",
    "# Define 3*3 Vertical sobel filter (Hint: refer lecture slides)\n",
    "sobel_v = \n",
    "\n",
    "#Define 3*3 Horizontal sobel filter (Hint: refer lecture slides)\n",
    "sobel_h = \n",
    "\n",
    "#compute vertical response using convolution2D function\n",
    "response_v = \n",
    "\n",
    "#compute horizontal response using convolution2D function\n",
    "response_h = \n",
    "\n",
    "#compute final response\n",
    "# G = |G_x| + |G_y|\n",
    "G = \n",
    "\n",
    "#compute index of min and max value of G\n",
    "\n",
    "\n",
    "###YOUR CODE ENDS HERE"
   ]
  },
  {
   "cell_type": "code",
   "execution_count": null,
   "metadata": {},
   "outputs": [],
   "source": [
    "fig, ax = plt.subplots(nrows=1, ncols=2, figsize=(8, 2))\n",
    "ax[0].imshow(image, cmap='gray')\n",
    "ax[0].set_title('Input Image')\n",
    "\n",
    "ax[1].imshow(G, cmap='gray')\n",
    "ax[1].set_title('Sobel Filter Output')\n",
    "\n",
    "for a in ax:\n",
    "    a.axis('off')\n",
    "\n",
    "fig.tight_layout()\n",
    "plt.show()"
   ]
  },
  {
   "cell_type": "markdown",
   "metadata": {},
   "source": [
    "What are index of the min and max values in the `G` image?\n",
    "\n",
    "1. $(52, 147), (111, 26)$\n",
    "2. $(0, 0), (108, 107)$\n",
    "3. $(56, 152), (116, 18)$\n",
    "4. $(51, 143), (114, 24)$"
   ]
  },
  {
   "cell_type": "markdown",
   "metadata": {
    "colab_type": "text",
    "id": "MDrOxGoXRIfv"
   },
   "source": [
    "### Question 6\n",
    "\n",
    "In this question you'll have to apply a Laplace Filter to the provided image and report the index of min and max value of the final output.\n",
    "\n",
    "What are index of the min and max values of the Laplace Filter response to the provided image?\n",
    "\n"
   ]
  },
  {
   "cell_type": "code",
   "execution_count": null,
   "metadata": {
    "colab": {},
    "colab_type": "code",
    "id": "keTqFJ_kJ-Ls"
   },
   "outputs": [],
   "source": [
    "image = Image.open('./images/clown.png')\n",
    "\n",
    "###YOUR CODE STARTS HERE\n",
    "\n",
    "# Define 3*3 Laplace filter (Hint: refer lecture slides)\n",
    "laplacian_filter = \n",
    "\n",
    "#compute response using convolution2D function\n",
    "response_L = \n",
    "\n",
    "#compute index of min and max value of Laplace Filter response\n",
    "\n",
    "###YOUR CODE ENDS HERE"
   ]
  },
  {
   "cell_type": "code",
   "execution_count": null,
   "metadata": {},
   "outputs": [],
   "source": [
    "fig, ax = plt.subplots(nrows=1, ncols=2, figsize=(8, 2))\n",
    "ax[0].imshow(image, cmap='gray')\n",
    "ax[0].set_title('Input Image')\n",
    "\n",
    "ax[1].imshow(response_L, cmap='gray')\n",
    "ax[1].set_title('Laplace Filter Output')\n",
    "\n",
    "for a in ax:\n",
    "    a.axis('off')\n",
    "\n",
    "fig.tight_layout()\n",
    "plt.show()"
   ]
  },
  {
   "cell_type": "markdown",
   "metadata": {
    "colab": {},
    "colab_type": "code",
    "id": "GoK156ZbMJjO"
   },
   "source": [
    "What are index of the min and max values in the `response_L` image?\n",
    "\n",
    "1. $(4, 117), (111, 26)$\n",
    "2. $(49, 176), (110, 27)$\n",
    "3. $(203, 136), (17, 136)$\n",
    "4. $(10, 104), (106, 22)$"
   ]
  },
  {
   "cell_type": "markdown",
   "metadata": {},
   "source": [
    "### Question 7\n",
    "\n",
    "Implement Canny-edge detector and compare it's output with the outputs of sobel and Laplace filters. You can use `skimage` library to implement it easily. Note that there is no follow up multiple choice question for this part"
   ]
  },
  {
   "cell_type": "code",
   "execution_count": null,
   "metadata": {},
   "outputs": [],
   "source": [
    "image = Image.open('./images/edges_image.png').convert('L')\n",
    "\n",
    "image = np.array(image)\n",
    "\n",
    "\n",
    "###YOUR CODE STARTS HERE\n",
    "\n",
    "###YOUR CODE ENDS HERE"
   ]
  },
  {
   "cell_type": "code",
   "execution_count": null,
   "metadata": {},
   "outputs": [],
   "source": [
    "fig, ax = plt.subplots(nrows=1, ncols=2, figsize=(8, 2))\n",
    "ax[0].imshow(image, cmap='gray')\n",
    "ax[0].set_title('Input Image')\n",
    "\n",
    "ax[1].imshow(edges1, cmap='gray')\n",
    "ax[1].set_title('Canny edge detector Output')\n",
    "\n",
    "for a in ax:\n",
    "    a.axis('off')\n",
    "\n",
    "fig.tight_layout()\n",
    "plt.show()"
   ]
  },
  {
   "cell_type": "code",
   "execution_count": null,
   "metadata": {},
   "outputs": [],
   "source": []
  }
 ],
 "metadata": {
  "colab": {
   "collapsed_sections": [],
   "name": "DL4V Assignment 1",
   "provenance": [],
   "toc_visible": true
  },
  "kernelspec": {
   "display_name": "Python 3",
   "language": "python",
   "name": "python3"
  },
  "language_info": {
   "codemirror_mode": {
    "name": "ipython",
    "version": 3
   },
   "file_extension": ".py",
   "mimetype": "text/x-python",
   "name": "python",
   "nbconvert_exporter": "python",
   "pygments_lexer": "ipython3",
   "version": "3.7.3"
  }
 },
 "nbformat": 4,
 "nbformat_minor": 1
}
