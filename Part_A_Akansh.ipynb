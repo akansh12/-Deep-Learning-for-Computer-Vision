{
  "nbformat": 4,
  "nbformat_minor": 0,
  "metadata": {
    "colab": {
      "name": "Part_A_Akansh.ipynb",
      "provenance": [],
      "mount_file_id": "1COpboboMjYFKQAfN3Rie4rSxnW5hMj9n",
      "authorship_tag": "ABX9TyNBm3QO19SdiaBV4XeIhPRh",
      "include_colab_link": true
    },
    "kernelspec": {
      "name": "python3",
      "display_name": "Python 3"
    },
    "language_info": {
      "name": "python"
    },
    "accelerator": "GPU"
  },
  "cells": [
    {
      "cell_type": "markdown",
      "metadata": {
        "id": "view-in-github",
        "colab_type": "text"
      },
      "source": [
        "<a href=\"https://colab.research.google.com/github/akansh12/-Deep-Learning-for-Computer-Vision/blob/main/Part_A_Akansh.ipynb\" target=\"_parent\"><img src=\"https://colab.research.google.com/assets/colab-badge.svg\" alt=\"Open In Colab\"/></a>"
      ]
    },
    {
      "cell_type": "code",
      "source": [
        "import torch\n",
        "import pandas as pd\n",
        "import numpy as np\n",
        "import torchvision\n",
        "import os\n",
        "import torch.nn as nn\n",
        "from torch.nn import functional as F"
      ],
      "metadata": {
        "id": "bpsqz3GDsGAc"
      },
      "execution_count": 1,
      "outputs": []
    },
    {
      "cell_type": "code",
      "source": [
        "import matplotlib.pyplot as plt"
      ],
      "metadata": {
        "id": "4LSedwiPtkjL"
      },
      "execution_count": 2,
      "outputs": []
    },
    {
      "cell_type": "markdown",
      "source": [
        "### Qurstion-1"
      ],
      "metadata": {
        "id": "YjdzUTcJtlJY"
      }
    },
    {
      "cell_type": "code",
      "source": [
        "### HELPER FUNCTIONS\n",
        "def findConv2dOutShape(H_in,W_in,conv,pool=2):\n",
        "  kernel_size=conv.kernel_size\n",
        "  stride=conv.stride\n",
        "  padding=conv.padding\n",
        "  dilation=conv.dilation\n",
        "\n",
        "  H_out=np.floor((H_in+2*padding[0]-dilation[0]*(kernel_size[0]-1)-1)/stride[0]+1)\n",
        "  W_out=np.floor((W_in+2*padding[1]-dilation[1]*(kernel_size[1]-1)-1)/stride[1]+1)\n",
        "  if pool:\n",
        "    H_out/=pool\n",
        "    W_out/=pool\n",
        "  return int(H_out),int(W_out)\n",
        "\n",
        "if torch.cuda.is_available():\n",
        "  device = torch.device(\"cuda\")\n",
        "else:\n",
        "  device = \"cpu\""
      ],
      "metadata": {
        "id": "Z8y2uPrRyIZb"
      },
      "execution_count": 3,
      "outputs": []
    },
    {
      "cell_type": "code",
      "source": [
        ""
      ],
      "metadata": {
        "id": "ELhBU1Dvyjvt"
      },
      "execution_count": 3,
      "outputs": []
    },
    {
      "cell_type": "code",
      "source": [
        "class conv_net(nn.Module):\n",
        "  def __init__(self, params): #num_filters, filter_size, activation_functions,dense_neurons,num_outputs\n",
        "    super(conv_net,self).__init__()\n",
        "    c_in, h_in, w_in = params[\"input_shape\"]\n",
        "    num_filters = params[\"num_filters\"]\n",
        "    filter_size = params[\"filter_size\"]\n",
        "    self.act_function = params[\"activation_functions\"]\n",
        "    dense_neurons = params[\"dense_neurons\"]\n",
        "    num_output = params[\"num_output\"]\n",
        "    self.dropout = params[\"dropout\"]\n",
        "\n",
        "\n",
        "    ####Conv layers\n",
        "    self.conv1 = nn.Conv2d(c_in, num_filters[0], kernel_size=filter_size[0])\n",
        "    h,w = findConv2dOutShape(h_in, w_in, self.conv1)\n",
        "\n",
        "    self.conv2 = nn.Conv2d(num_filters[0], num_filters[1], kernel_size=filter_size[1])\n",
        "    h,w = findConv2dOutShape(h, w, self.conv2)\n",
        "\n",
        "    self.conv3 = nn.Conv2d(num_filters[1], num_filters[2], kernel_size=filter_size[2])\n",
        "    h,w = findConv2dOutShape(h, w, self.conv3)\n",
        "\n",
        "\n",
        "    self.conv4 = nn.Conv2d(num_filters[2], num_filters[3], kernel_size=filter_size[3])\n",
        "    h,w = findConv2dOutShape(h, w, self.conv4)\n",
        "\n",
        "\n",
        "    self.conv5 = nn.Conv2d(num_filters[3], num_filters[4], kernel_size=filter_size[4])\n",
        "    h,w = findConv2dOutShape(h, w, self.conv5)\n",
        "    print(h)\n",
        "    print(w)\n",
        "    #FC layers\n",
        "    self.num_flatten = h*w*num_filters[4]\n",
        "    print(self.num_flatten)\n",
        "    self.fc1 = nn.Linear(self.num_flatten, dense_neurons)\n",
        "    self.fc2 = nn.Linear(dense_neurons, num_output)\n",
        "\n",
        "  def forward(self,x):\n",
        "    x = self.act_function[0](self.conv1(x))\n",
        "    x = F.max_pool2d(x, 2, 2)\n",
        "    x = self.act_function[1](self.conv2(x))\n",
        "    x = F.max_pool2d(x, 2, 2)\n",
        "    x = self.act_function[2](self.conv3(x))\n",
        "    x = F.max_pool2d(x, 2, 2)\n",
        "    x = self.act_function[3](self.conv4(x))\n",
        "    x = F.max_pool2d(x, 2, 2)\n",
        "    x = self.act_function[4](self.conv5(x))\n",
        "    x = F.max_pool2d(x, 2, 2)\n",
        "    #Flatening the layers\n",
        "    x = x.view(-1, self.num_flatten)\n",
        "    \n",
        "    x = self.act_function[5](self.fc1(x))\n",
        "    x = F.dropout(x, self.dropout, training= self.training)\n",
        "    x = self.fc2(x)\n",
        "    x = F.log_softmax(x, dim=1)\n",
        "    return x   \n"
      ],
      "metadata": {
        "id": "mMwQGRtrtjec"
      },
      "execution_count": 34,
      "outputs": []
    },
    {
      "cell_type": "code",
      "source": [
        "params = {\"input_shape\": (3,224,224),\n",
        "          \"num_filters\": [8,16,32,64,128],\n",
        "          \"filter_size\":[3,3,3,3,3],\n",
        "          \"activation_functions\": [nn.functional.relu]*6,\n",
        "          \"dense_neurons\": 128,\n",
        "          \"num_output\":10,\n",
        "          \"dropout\": 0.2          \n",
        "          }"
      ],
      "metadata": {
        "id": "9x2I21oZ2ulR"
      },
      "execution_count": 38,
      "outputs": []
    },
    {
      "cell_type": "code",
      "source": [
        "model = conv_net(params)\n",
        "model=model.to(device)"
      ],
      "metadata": {
        "colab": {
          "base_uri": "https://localhost:8080/"
        },
        "id": "AwlvVrKD5pYr",
        "outputId": "6b72b5b2-db17-406f-e66c-5da6c80edfa4"
      },
      "execution_count": 39,
      "outputs": [
        {
          "output_type": "stream",
          "name": "stdout",
          "text": [
            "5\n",
            "5\n",
            "3200\n"
          ]
        }
      ]
    },
    {
      "cell_type": "code",
      "source": [
        "from torchsummary import summary\n",
        "summary(model, input_size=(3, 224, 224),device=device.type)"
      ],
      "metadata": {
        "colab": {
          "base_uri": "https://localhost:8080/"
        },
        "id": "NLvJYNxj6S-X",
        "outputId": "154e89d4-294e-4d54-c432-b58d1b879c3d"
      },
      "execution_count": 41,
      "outputs": [
        {
          "output_type": "stream",
          "name": "stdout",
          "text": [
            "----------------------------------------------------------------\n",
            "        Layer (type)               Output Shape         Param #\n",
            "================================================================\n",
            "            Conv2d-1          [-1, 8, 222, 222]             224\n",
            "            Conv2d-2         [-1, 16, 109, 109]           1,168\n",
            "            Conv2d-3           [-1, 32, 52, 52]           4,640\n",
            "            Conv2d-4           [-1, 64, 24, 24]          18,496\n",
            "            Conv2d-5          [-1, 128, 10, 10]          73,856\n",
            "            Linear-6                  [-1, 128]         409,728\n",
            "            Linear-7                   [-1, 10]           1,290\n",
            "================================================================\n",
            "Total params: 509,402\n",
            "Trainable params: 509,402\n",
            "Non-trainable params: 0\n",
            "----------------------------------------------------------------\n",
            "Input size (MB): 0.57\n",
            "Forward/backward pass size (MB): 5.50\n",
            "Params size (MB): 1.94\n",
            "Estimated Total Size (MB): 8.02\n",
            "----------------------------------------------------------------\n"
          ]
        }
      ]
    },
    {
      "cell_type": "code",
      "source": [
        "a = plt.imread(\"/content/drive/MyDrive/Nature_data/inaturalist_12K/train/Amphibia/0012ec13b97dfbfb3dd5de8c3da95555.jpg\")"
      ],
      "metadata": {
        "id": "KF-y7s8N6x_3"
      },
      "execution_count": 39,
      "outputs": []
    },
    {
      "cell_type": "code",
      "source": [
        "a = np.random.randn(96,96,3)"
      ],
      "metadata": {
        "id": "BOojEZ3b7aaM"
      },
      "execution_count": 14,
      "outputs": []
    },
    {
      "cell_type": "code",
      "source": [
        "a_t = torch.from_numpy(a)"
      ],
      "metadata": {
        "id": "AIqII5M47d35"
      },
      "execution_count": 16,
      "outputs": []
    },
    {
      "cell_type": "code",
      "source": [
        "model(a_t.to(device))"
      ],
      "metadata": {
        "colab": {
          "base_uri": "https://localhost:8080/",
          "height": 434
        },
        "id": "UFT5de2g_Arb",
        "outputId": "9f28abf3-2568-46fa-a6ea-3c80fe5446a5"
      },
      "execution_count": 19,
      "outputs": [
        {
          "output_type": "error",
          "ename": "NotImplementedError",
          "evalue": "ignored",
          "traceback": [
            "\u001b[0;31m---------------------------------------------------------------------------\u001b[0m",
            "\u001b[0;31mNotImplementedError\u001b[0m                       Traceback (most recent call last)",
            "\u001b[0;32m<ipython-input-19-28175d0182ff>\u001b[0m in \u001b[0;36m<module>\u001b[0;34m()\u001b[0m\n\u001b[0;32m----> 1\u001b[0;31m \u001b[0mmodel\u001b[0m\u001b[0;34m(\u001b[0m\u001b[0ma_t\u001b[0m\u001b[0;34m.\u001b[0m\u001b[0mto\u001b[0m\u001b[0;34m(\u001b[0m\u001b[0mdevice\u001b[0m\u001b[0;34m)\u001b[0m\u001b[0;34m)\u001b[0m\u001b[0;34m\u001b[0m\u001b[0;34m\u001b[0m\u001b[0m\n\u001b[0m",
            "\u001b[0;32m/usr/local/lib/python3.7/dist-packages/torch/nn/modules/module.py\u001b[0m in \u001b[0;36m_call_impl\u001b[0;34m(self, *input, **kwargs)\u001b[0m\n\u001b[1;32m   1100\u001b[0m         if not (self._backward_hooks or self._forward_hooks or self._forward_pre_hooks or _global_backward_hooks\n\u001b[1;32m   1101\u001b[0m                 or _global_forward_hooks or _global_forward_pre_hooks):\n\u001b[0;32m-> 1102\u001b[0;31m             \u001b[0;32mreturn\u001b[0m \u001b[0mforward_call\u001b[0m\u001b[0;34m(\u001b[0m\u001b[0;34m*\u001b[0m\u001b[0minput\u001b[0m\u001b[0;34m,\u001b[0m \u001b[0;34m**\u001b[0m\u001b[0mkwargs\u001b[0m\u001b[0;34m)\u001b[0m\u001b[0;34m\u001b[0m\u001b[0;34m\u001b[0m\u001b[0m\n\u001b[0m\u001b[1;32m   1103\u001b[0m         \u001b[0;31m# Do not call functions when jit is used\u001b[0m\u001b[0;34m\u001b[0m\u001b[0;34m\u001b[0m\u001b[0;34m\u001b[0m\u001b[0m\n\u001b[1;32m   1104\u001b[0m         \u001b[0mfull_backward_hooks\u001b[0m\u001b[0;34m,\u001b[0m \u001b[0mnon_full_backward_hooks\u001b[0m \u001b[0;34m=\u001b[0m \u001b[0;34m[\u001b[0m\u001b[0;34m]\u001b[0m\u001b[0;34m,\u001b[0m \u001b[0;34m[\u001b[0m\u001b[0;34m]\u001b[0m\u001b[0;34m\u001b[0m\u001b[0;34m\u001b[0m\u001b[0m\n",
            "\u001b[0;32m/usr/local/lib/python3.7/dist-packages/torch/nn/modules/module.py\u001b[0m in \u001b[0;36m_forward_unimplemented\u001b[0;34m(self, *input)\u001b[0m\n\u001b[1;32m    199\u001b[0m         \u001b[0mregistered\u001b[0m \u001b[0mhooks\u001b[0m \u001b[0;32mwhile\u001b[0m \u001b[0mthe\u001b[0m \u001b[0mlatter\u001b[0m \u001b[0msilently\u001b[0m \u001b[0mignores\u001b[0m \u001b[0mthem\u001b[0m\u001b[0;34m.\u001b[0m\u001b[0;34m\u001b[0m\u001b[0;34m\u001b[0m\u001b[0m\n\u001b[1;32m    200\u001b[0m     \"\"\"\n\u001b[0;32m--> 201\u001b[0;31m     \u001b[0;32mraise\u001b[0m \u001b[0mNotImplementedError\u001b[0m\u001b[0;34m\u001b[0m\u001b[0;34m\u001b[0m\u001b[0m\n\u001b[0m\u001b[1;32m    202\u001b[0m \u001b[0;34m\u001b[0m\u001b[0m\n\u001b[1;32m    203\u001b[0m \u001b[0;34m\u001b[0m\u001b[0m\n",
            "\u001b[0;31mNotImplementedError\u001b[0m: "
          ]
        }
      ]
    },
    {
      "cell_type": "code",
      "source": [
        ""
      ],
      "metadata": {
        "id": "As7MP4iO_GVT"
      },
      "execution_count": null,
      "outputs": []
    }
  ]
}